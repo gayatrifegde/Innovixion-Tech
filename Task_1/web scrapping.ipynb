{
 "cells": [
  {
   "cell_type": "code",
   "execution_count": 1,
   "id": "4bd80366",
   "metadata": {},
   "outputs": [],
   "source": [
    "# Importing all the required libraries\n",
    "\n",
    "import requests as re\n",
    "from bs4 import BeautifulSoup\n",
    "import datetime\n",
    "import pandas as pd"
   ]
  },
  {
   "cell_type": "code",
   "execution_count": 2,
   "id": "524cd789",
   "metadata": {},
   "outputs": [
    {
     "name": "stdout",
     "output_type": "stream",
     "text": [
      "[<span class=\"a-price-whole\">\n",
      "                            468\n",
      "                           </span>, <span class=\"a-price-whole\">\n",
      "                            178\n",
      "                           </span>, <span class=\"a-price-whole\">\n",
      "                              154\n",
      "                              <span class=\"a-price-decimal\">\n",
      "                               .\n",
      "                              </span>\n",
      "</span>, <span class=\"a-price-whole\">\n",
      "                              0\n",
      "                             </span>, <span class=\"a-price-whole\">\n",
      "                            499\n",
      "                           </span>, <span class=\"a-price-whole\">\n",
      "                              353\n",
      "                              <span class=\"a-price-decimal\">\n",
      "                               .\n",
      "                              </span>\n",
      "</span>, <span class=\"a-price-whole\">\n",
      "                              0\n",
      "                             </span>, <span class=\"a-price-whole\">\n",
      "                            421\n",
      "                           </span>, <span class=\"a-price-whole\">\n",
      "                            399\n",
      "                           </span>, <span class=\"a-price-whole\">\n",
      "                            309\n",
      "                           </span>, <span class=\"a-price-whole\">\n",
      "                              175\n",
      "                              <span class=\"a-price-decimal\">\n",
      "                               .\n",
      "                              </span>\n",
      "</span>, <span class=\"a-price-whole\">\n",
      "                              410\n",
      "                             </span>, <span class=\"a-price-whole\">\n",
      "                            346\n",
      "                           </span>, <span class=\"a-price-whole\">\n",
      "                              189\n",
      "                              <span class=\"a-price-decimal\">\n",
      "                               .\n",
      "                              </span>\n",
      "</span>, <span class=\"a-price-whole\">\n",
      "                              0\n",
      "                             </span>, <span class=\"a-price-whole\">\n",
      "                            115\n",
      "                           </span>, <span class=\"a-price-whole\">\n",
      "                              15\n",
      "                             </span>, <span class=\"a-price-whole\">\n",
      "                              0\n",
      "                             </span>, <span class=\"a-price-whole\">\n",
      "                            579\n",
      "                           </span>, <span class=\"a-price-whole\">\n",
      "                              270\n",
      "                              <span class=\"a-price-decimal\">\n",
      "                               .\n",
      "                              </span>\n",
      "</span>, <span class=\"a-price-whole\">\n",
      "                              0\n",
      "                             </span>, <span class=\"a-price-whole\">\n",
      "                            100\n",
      "                           </span>, <span class=\"a-price-whole\">\n",
      "                            332\n",
      "                           </span>, <span class=\"a-price-whole\">\n",
      "                              315\n",
      "                              <span class=\"a-price-decimal\">\n",
      "                               .\n",
      "                              </span>\n",
      "</span>, <span class=\"a-price-whole\">\n",
      "                              0\n",
      "                             </span>, <span class=\"a-price-whole\">\n",
      "                            399\n",
      "                           </span>, <span class=\"a-price-whole\">\n",
      "                              379\n",
      "                              <span class=\"a-price-decimal\">\n",
      "                               .\n",
      "                              </span>\n",
      "</span>, <span class=\"a-price-whole\">\n",
      "                              0\n",
      "                             </span>, <span class=\"a-price-whole\">\n",
      "                            154\n",
      "                           </span>, <span class=\"a-price-whole\">\n",
      "                              49\n",
      "                             </span>, <span class=\"a-price-whole\">\n",
      "                            180\n",
      "                           </span>, <span class=\"a-price-whole\">\n",
      "                            329\n",
      "                           </span>, <span class=\"a-price-whole\">\n",
      "                            179\n",
      "                           </span>]\n",
      "[<span class=\"a-size-medium a-color-base a-text-normal\">\n",
      "                       SSC GD (COMBO) MATH +REASONING+GK+HINDI\n",
      "                      </span>, <span class=\"a-size-medium a-color-base a-text-normal\">\n",
      "                       Don't Believe Everything You Think (English)\n",
      "                      </span>, <span class=\"a-size-medium a-color-base a-text-normal\">\n",
      "                       Atomic Habits\n",
      "                      </span>, <span class=\"a-size-medium a-color-base a-text-normal\">\n",
      "                       PW Physics Med Easy Notes | Notes, Formulas, Mnemonics, Tips &amp; Tricks for NEET/JEE &amp; Board Exams | MR Sir Physics Handwritten Notes\n",
      "                      </span>, <span class=\"a-size-medium a-color-base a-text-normal\">\n",
      "                       My First Library: Boxset of 10 Board Books for Kids\n",
      "                      </span>, <span class=\"a-size-medium a-color-base a-text-normal\">\n",
      "                       The Psychology Of Money\n",
      "                      </span>, <span class=\"a-size-medium a-color-base a-text-normal\">\n",
      "                       Ikigai\n",
      "                      </span>, <span class=\"a-size-medium a-color-base a-text-normal\">\n",
      "                       The Power of Your Subconscious Mind\n",
      "                      </span>, <span class=\"a-size-medium a-color-base a-text-normal\">\n",
      "                       THE 48 LAWS OF POWER\n",
      "                      </span>, <span class=\"a-size-medium a-color-base a-text-normal\">\n",
      "                       Brain Activity Book for Kids - 200+ Activities for Age 3+\n",
      "                      </span>, <span class=\"a-size-medium a-color-base a-text-normal\">\n",
      "                       SAME AS EVER: Timeless Lessons on Risk, Opportunity and Living a Good Life (From the author of The Psychology Of Money)\n",
      "                      </span>, <span class=\"a-size-medium a-color-base a-text-normal\">\n",
      "                       Diary Of A Wimpy Kid: No Brainer (Book 18)\n",
      "                      </span>, <span class=\"a-size-medium a-color-base a-text-normal\">\n",
      "                       Do It Today: Overcome procrastination, improve productivity and achieve more meaningful things [Paperback] Foroux, Darius\n",
      "                      </span>, <span class=\"a-size-medium a-color-base a-text-normal\">\n",
      "                       BRAHMASTRA Complete Maths Multicolored Formula Book Second Edition BILINGUAL by Aditya Ranjan Sir\n",
      "                      </span>, <span class=\"a-size-medium a-color-base a-text-normal\">\n",
      "                       Colouring Books for Kids (Pack of 12 Books)\n",
      "                      </span>, <span class=\"a-size-medium a-color-base a-text-normal\">\n",
      "                       My First Mythology Tale (Illustrated) (Set of 5 Books) - Mahabharata, Krishna, Hanuman, Ganesha, Ramayana - Story Book for Kids - English Short Stories with Colourful Pictures - Read Aloud to Infants, Toddlers\n",
      "                      </span>]\n"
     ]
    }
   ],
   "source": [
    "# Getting all the required data as html \n",
    "\n",
    "url = 'https://www.amazon.in/s?i=stripbooks&bbn=976389031&rh=n%3A976389031%2Cp_85%3A10440599031%2Cp_n_availability%3A1318484031&pf_rd_i=976389031&pf_rd_m=A1VBAL9TL5WCBF&pf_rd_p=d9156ff5-f4fe-4d30-acc4-be8a85626096&pf_rd_r=RPJ07AB4GA6NNQH82SE9&pf_rd_s=merchandised-search-4&ref=AF_WIN_bub_w_cml_t_1'\n",
    "\n",
    "headers = {\"User-Agent\": \"Mozilla/5.0 (Windows NT 10.0; Win64; x64) AppleWebKit/537.36 (KHTML, like Gecko) Chrome/115.0.0.0 Safari/537.36 Edg/115.0.1901.203\"}\n",
    "\n",
    "webpage = re.get(url, headers=headers)\n",
    "\n",
    "soup1 =BeautifulSoup(webpage.content, 'lxml')\n",
    "\n",
    "soup2 = BeautifulSoup(soup1.prettify(), 'lxml')\n",
    "\n",
    "link_title = \"a-size-medium a-color-base a-text-normal\"\n",
    "\n",
    "link_price = \"a-price-whole\"\n",
    "\n",
    "# Finding specific tags and attributes\n",
    "\n",
    "title = soup2.find_all('span', attrs={'class':link_title})\n",
    "\n",
    "price = soup2.div.find_all('span', attrs={'class':link_price})\n",
    "\n",
    "\n",
    "print(price)\n",
    "print(title)"
   ]
  },
  {
   "cell_type": "code",
   "execution_count": 3,
   "id": "8788b8ea",
   "metadata": {},
   "outputs": [
    {
     "name": "stdout",
     "output_type": "stream",
     "text": [
      "['468', '178', '154\\n                              \\n                               .', '0', '499', '353\\n                              \\n                               .', '0', '421', '399', '309', '175\\n                              \\n                               .', '410', '346', '189\\n                              \\n                               .', '0', '115', '15', '0', '579', '270\\n                              \\n                               .', '0', '100', '332', '315\\n                              \\n                               .', '0', '399', '379\\n                              \\n                               .', '0', '154', '49', '180', '329', '179']\n",
      "['SSC GD (COMBO) MATH +REASONING+GK+HINDI', \"Don't Believe Everything You Think (English)\", 'Atomic Habits', 'PW Physics Med Easy Notes | Notes, Formulas, Mnemonics, Tips & Tricks for NEET/JEE & Board Exams | MR Sir Physics Handwritten Notes', 'My First Library: Boxset of 10 Board Books for Kids', 'The Psychology Of Money', 'Ikigai', 'The Power of Your Subconscious Mind', 'THE 48 LAWS OF POWER', 'Brain Activity Book for Kids - 200+ Activities for Age 3+', 'SAME AS EVER: Timeless Lessons on Risk, Opportunity and Living a Good Life (From the author of The Psychology Of Money)', 'Diary Of A Wimpy Kid: No Brainer (Book 18)', 'Do It Today: Overcome procrastination, improve productivity and achieve more meaningful things [Paperback] Foroux, Darius', 'BRAHMASTRA Complete Maths Multicolored Formula Book Second Edition BILINGUAL by Aditya Ranjan Sir', 'Colouring Books for Kids (Pack of 12 Books)', 'My First Mythology Tale (Illustrated) (Set of 5 Books) - Mahabharata, Krishna, Hanuman, Ganesha, Ramayana - Story Book for Kids - English Short Stories with Colourful Pictures - Read Aloud to Infants, Toddlers']\n"
     ]
    }
   ],
   "source": [
    "'''Appending prices of books to an empty list'''\n",
    "\n",
    "price_lst = []\n",
    "\n",
    "for cost in price:\n",
    "    price_lst.append(cost.text.strip())\n",
    "\n",
    "\n",
    "print(price_lst)\n",
    "\n",
    "'''Appending titles of books to an empty list'''\n",
    "\n",
    "title_lst = []\n",
    "\n",
    "for i in title:\n",
    "    title_lst.append(i.text.strip())\n",
    "\n",
    "print(title_lst)"
   ]
  },
  {
   "cell_type": "code",
   "execution_count": 4,
   "id": "ece9b29e",
   "metadata": {},
   "outputs": [
    {
     "data": {
      "text/plain": [
       "{'SSC GD (COMBO) MATH +REASONING+GK+HINDI': '468',\n",
       " \"Don't Believe Everything You Think (English)\": '178',\n",
       " 'Atomic Habits': '154\\n                              \\n                               .',\n",
       " 'PW Physics Med Easy Notes | Notes, Formulas, Mnemonics, Tips & Tricks for NEET/JEE & Board Exams | MR Sir Physics Handwritten Notes': '0',\n",
       " 'My First Library: Boxset of 10 Board Books for Kids': '499',\n",
       " 'The Psychology Of Money': '353\\n                              \\n                               .',\n",
       " 'Ikigai': '0',\n",
       " 'The Power of Your Subconscious Mind': '421',\n",
       " 'THE 48 LAWS OF POWER': '399',\n",
       " 'Brain Activity Book for Kids - 200+ Activities for Age 3+': '309',\n",
       " 'SAME AS EVER: Timeless Lessons on Risk, Opportunity and Living a Good Life (From the author of The Psychology Of Money)': '175\\n                              \\n                               .',\n",
       " 'Diary Of A Wimpy Kid: No Brainer (Book 18)': '410',\n",
       " 'Do It Today: Overcome procrastination, improve productivity and achieve more meaningful things [Paperback] Foroux, Darius': '346',\n",
       " 'BRAHMASTRA Complete Maths Multicolored Formula Book Second Edition BILINGUAL by Aditya Ranjan Sir': '189\\n                              \\n                               .',\n",
       " 'Colouring Books for Kids (Pack of 12 Books)': '0',\n",
       " 'My First Mythology Tale (Illustrated) (Set of 5 Books) - Mahabharata, Krishna, Hanuman, Ganesha, Ramayana - Story Book for Kids - English Short Stories with Colourful Pictures - Read Aloud to Infants, Toddlers': '115'}"
      ]
     },
     "execution_count": 4,
     "metadata": {},
     "output_type": "execute_result"
    }
   ],
   "source": [
    "# Creating a dictionary with 2 lists scraped before\n",
    "\n",
    "dict = {title_lst[key] : price_lst[key] for key in range(len(title_lst))}\n",
    "\n",
    "dict"
   ]
  },
  {
   "cell_type": "code",
   "execution_count": 5,
   "id": "133566ca",
   "metadata": {},
   "outputs": [],
   "source": [
    "'''Getting the date using datetime'''\n",
    "today = datetime.date.today()"
   ]
  },
  {
   "cell_type": "code",
   "execution_count": 6,
   "id": "248a36c8",
   "metadata": {},
   "outputs": [],
   "source": [
    "# Writing the data into csv file\n",
    "\n",
    "import csv\n",
    "\n",
    "heading = ['Date','Product', 'Price']\n",
    "data = [today, title_lst, price_lst]\n",
    "\n",
    "'''Writing the headings into a csv file'''\n",
    "\n",
    "with open('AmazonScrape.csv', 'w', newline='', encoding='UTF8') as c:\n",
    "    csvwriter = csv.writer(c)\n",
    "    csvwriter.writerow(heading)"
   ]
  },
  {
   "cell_type": "code",
   "execution_count": 7,
   "id": "587bd7a3",
   "metadata": {},
   "outputs": [],
   "source": [
    "'''Appending all the values into the csv file'''\n",
    "with open('AmazonScrape.csv', 'a+', newline='', encoding='UTF8') as c:\n",
    "    for key, value in dict.items():\n",
    "    \n",
    "        data = [today, key, value]\n",
    "        csvwriter = csv.writer(c)\n",
    "        csvwriter.writerow(data)"
   ]
  },
  {
   "cell_type": "code",
   "execution_count": 8,
   "id": "fdb673cb",
   "metadata": {},
   "outputs": [
    {
     "data": {
      "text/html": [
       "<div>\n",
       "<style scoped>\n",
       "    .dataframe tbody tr th:only-of-type {\n",
       "        vertical-align: middle;\n",
       "    }\n",
       "\n",
       "    .dataframe tbody tr th {\n",
       "        vertical-align: top;\n",
       "    }\n",
       "\n",
       "    .dataframe thead th {\n",
       "        text-align: right;\n",
       "    }\n",
       "</style>\n",
       "<table border=\"1\" class=\"dataframe\">\n",
       "  <thead>\n",
       "    <tr style=\"text-align: right;\">\n",
       "      <th></th>\n",
       "      <th>Date</th>\n",
       "      <th>Product</th>\n",
       "      <th>Price</th>\n",
       "    </tr>\n",
       "  </thead>\n",
       "  <tbody>\n",
       "    <tr>\n",
       "      <th>0</th>\n",
       "      <td>2023-11-16</td>\n",
       "      <td>SSC GD (COMBO) MATH +REASONING+GK+HINDI</td>\n",
       "      <td>468</td>\n",
       "    </tr>\n",
       "    <tr>\n",
       "      <th>1</th>\n",
       "      <td>2023-11-16</td>\n",
       "      <td>Don't Believe Everything You Think (English)</td>\n",
       "      <td>178</td>\n",
       "    </tr>\n",
       "    <tr>\n",
       "      <th>2</th>\n",
       "      <td>2023-11-16</td>\n",
       "      <td>Atomic Habits</td>\n",
       "      <td>154\\n                              \\n         ...</td>\n",
       "    </tr>\n",
       "    <tr>\n",
       "      <th>3</th>\n",
       "      <td>2023-11-16</td>\n",
       "      <td>PW Physics Med Easy Notes | Notes, Formulas, M...</td>\n",
       "      <td>0</td>\n",
       "    </tr>\n",
       "    <tr>\n",
       "      <th>4</th>\n",
       "      <td>2023-11-16</td>\n",
       "      <td>My First Library: Boxset of 10 Board Books for...</td>\n",
       "      <td>499</td>\n",
       "    </tr>\n",
       "  </tbody>\n",
       "</table>\n",
       "</div>"
      ],
      "text/plain": [
       "         Date                                            Product  \\\n",
       "0  2023-11-16            SSC GD (COMBO) MATH +REASONING+GK+HINDI   \n",
       "1  2023-11-16       Don't Believe Everything You Think (English)   \n",
       "2  2023-11-16                                      Atomic Habits   \n",
       "3  2023-11-16  PW Physics Med Easy Notes | Notes, Formulas, M...   \n",
       "4  2023-11-16  My First Library: Boxset of 10 Board Books for...   \n",
       "\n",
       "                                               Price  \n",
       "0                                                468  \n",
       "1                                                178  \n",
       "2  154\\n                              \\n         ...  \n",
       "3                                                  0  \n",
       "4                                                499  "
      ]
     },
     "execution_count": 8,
     "metadata": {},
     "output_type": "execute_result"
    }
   ],
   "source": [
    "df = pd.read_csv(\"AmazonScrape.csv\")\n",
    "df.head()"
   ]
  },
  {
   "cell_type": "code",
   "execution_count": 9,
   "id": "0db28ca3",
   "metadata": {},
   "outputs": [],
   "source": [
    "'''Using Regex to remove the newlines'''\n",
    "\n",
    "import re\n",
    "df['Price'] = df['Price'].apply(lambda x : re.sub(r'\\n', '', x))"
   ]
  },
  {
   "cell_type": "code",
   "execution_count": 10,
   "id": "fd2fbf8d",
   "metadata": {},
   "outputs": [],
   "source": [
    "df['Price'] = df['Price'].apply(lambda x : re.sub(r' ', '', x))"
   ]
  },
  {
   "cell_type": "code",
   "execution_count": 11,
   "id": "6e6d9010",
   "metadata": {},
   "outputs": [
    {
     "data": {
      "text/plain": [
       "0      468\n",
       "1      178\n",
       "2     154.\n",
       "3        0\n",
       "4      499\n",
       "5     353.\n",
       "6        0\n",
       "7      421\n",
       "8      399\n",
       "9      309\n",
       "10    175.\n",
       "11     410\n",
       "12     346\n",
       "13    189.\n",
       "14       0\n",
       "15     115\n",
       "Name: Price, dtype: object"
      ]
     },
     "execution_count": 11,
     "metadata": {},
     "output_type": "execute_result"
    }
   ],
   "source": [
    "df.Price"
   ]
  },
  {
   "cell_type": "code",
   "execution_count": 12,
   "id": "f9dc9308",
   "metadata": {},
   "outputs": [
    {
     "data": {
      "text/plain": [
       "<bound method DataFrame.to_string of           Date                                            Product Price\n",
       "0   2023-11-16            SSC GD (COMBO) MATH +REASONING+GK+HINDI   468\n",
       "1   2023-11-16       Don't Believe Everything You Think (English)   178\n",
       "2   2023-11-16                                      Atomic Habits  154.\n",
       "3   2023-11-16  PW Physics Med Easy Notes | Notes, Formulas, M...     0\n",
       "4   2023-11-16  My First Library: Boxset of 10 Board Books for...   499\n",
       "5   2023-11-16                            The Psychology Of Money  353.\n",
       "6   2023-11-16                                             Ikigai     0\n",
       "7   2023-11-16                The Power of Your Subconscious Mind   421\n",
       "8   2023-11-16                               THE 48 LAWS OF POWER   399\n",
       "9   2023-11-16  Brain Activity Book for Kids - 200+ Activities...   309\n",
       "10  2023-11-16  SAME AS EVER: Timeless Lessons on Risk, Opport...  175.\n",
       "11  2023-11-16         Diary Of A Wimpy Kid: No Brainer (Book 18)   410\n",
       "12  2023-11-16  Do It Today: Overcome procrastination, improve...   346\n",
       "13  2023-11-16  BRAHMASTRA Complete Maths Multicolored Formula...  189.\n",
       "14  2023-11-16        Colouring Books for Kids (Pack of 12 Books)     0\n",
       "15  2023-11-16  My First Mythology Tale (Illustrated) (Set of ...   115>"
      ]
     },
     "execution_count": 12,
     "metadata": {},
     "output_type": "execute_result"
    }
   ],
   "source": [
    "df.to_string"
   ]
  },
  {
   "cell_type": "code",
   "execution_count": 13,
   "id": "28b1ccec",
   "metadata": {},
   "outputs": [],
   "source": [
    "df.to_csv('AmazonScrapeFinal.csv')"
   ]
  },
  {
   "cell_type": "markdown",
   "id": "acc1a39d",
   "metadata": {},
   "source": [
    "Web Scraping Popular Books on Amazon\n",
    "\n",
    "This is a simple web scraper using BeautifulSoup. It scrapes data on popular top selling books on Amazon. It uses requests to make the HTTP request.\n",
    "\n",
    "The data collected were cleaned and made into neat way using pandas.\n",
    "\n",
    "The data collected were written to a csv file using csv library."
   ]
  },
  {
   "cell_type": "code",
   "execution_count": null,
   "id": "7ee3496a",
   "metadata": {},
   "outputs": [],
   "source": []
  }
 ],
 "metadata": {
  "kernelspec": {
   "display_name": "Python 3 (ipykernel)",
   "language": "python",
   "name": "python3"
  },
  "language_info": {
   "codemirror_mode": {
    "name": "ipython",
    "version": 3
   },
   "file_extension": ".py",
   "mimetype": "text/x-python",
   "name": "python",
   "nbconvert_exporter": "python",
   "pygments_lexer": "ipython3",
   "version": "3.11.5"
  }
 },
 "nbformat": 4,
 "nbformat_minor": 5
}
